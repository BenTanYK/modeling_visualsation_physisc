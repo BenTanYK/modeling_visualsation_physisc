{
 "cells": [
  {
   "cell_type": "code",
   "execution_count": 28,
   "metadata": {},
   "outputs": [
    {
     "name": "stdout",
     "output_type": "stream",
     "text": [
      "[[-1.  1.  1.]\n",
      " [-1. -1.  1.]\n",
      " [ 1. -1.  1.]]\n"
     ]
    }
   ],
   "source": [
    "import numpy as np\n",
    "import random\n",
    "\n",
    "lx = 3\n",
    "ly = lx\n",
    "\n",
    "spin=np.zeros((lx,ly),dtype=float)\n",
    "\n",
    "#initialise spins randomly\n",
    "\n",
    "for i in range(lx):\n",
    "    for j in range(ly):\n",
    "        r=random.random()\n",
    "        if(r<0.5): spin[i,j]=-1\n",
    "        if(r>=0.5): spin[i,j]=1\n",
    "\n",
    "print(spin)\n",
    "\n",
    "def E_spin(spin, lx , ly):\n",
    "    '''spin: numpy array\n",
    "             spin matrix\n",
    "\n",
    "       lx, ly: Interger\n",
    "               Dimensions of the spin array \n",
    "    '''\n",
    "    spin_x = spin\n",
    "    print(f\"{spin = }\")\n",
    "   \n",
    "    E = 0\n",
    "    for i in range(lx):\n",
    "        for j in range(ly):\n",
    "            E += -spin_x[i, j]*(spin_x[np.mod(i-1,lx),j] + spin_x[np.mod(i+1, lx),j] + spin_x[i,np.mod(j-1,ly)] + spin_x[i,np.mod(j+1,ly)])\n",
    "            spin_x[i, j] = 0\n",
    "    print(f\"{spin = }\")\n",
    "    # why does the spin array become all zeros, spin_X sould be all zeros but the but spin should not\n",
    "    return E\n",
    "\n",
    "# I calculate the energy of a point and then once I calculated all the the interactions with nearest neighbours I set the spin to zero"
   ]
  },
  {
   "attachments": {},
   "cell_type": "markdown",
   "metadata": {},
   "source": [
    "## Find the energy of the array above"
   ]
  },
  {
   "cell_type": "code",
   "execution_count": 29,
   "metadata": {},
   "outputs": [
    {
     "name": "stdout",
     "output_type": "stream",
     "text": [
      "spin = array([[-1.,  1.,  1.],\n",
      "       [-1., -1.,  1.],\n",
      "       [ 1., -1.,  1.]])\n",
      "spin = array([[0., 0., 0.],\n",
      "       [0., 0., 0.],\n",
      "       [0., 0., 0.]])\n",
      "E = 2.0\n",
      "[[0. 0. 0.]\n",
      " [0. 0. 0.]\n",
      " [0. 0. 0.]]\n"
     ]
    }
   ],
   "source": [
    "E = E_spin(spin, lx, ly)\n",
    "print(f\"{E = }\")\n",
    "print(spin)"
   ]
  },
  {
   "cell_type": "code",
   "execution_count": 5,
   "metadata": {},
   "outputs": [
    {
     "name": "stdout",
     "output_type": "stream",
     "text": [
      "[[1 2]\n",
      " [3 4]]\n",
      "[[1 2]\n",
      " [3 0]]\n"
     ]
    }
   ],
   "source": [
    "a = np.array([[1,2],[3,4]])\n",
    "print(a)\n",
    "a[1,1] = 0\n",
    "print(a)"
   ]
  },
  {
   "cell_type": "code",
   "execution_count": null,
   "metadata": {},
   "outputs": [],
   "source": []
  }
 ],
 "metadata": {
  "kernelspec": {
   "display_name": "base",
   "language": "python",
   "name": "python3"
  },
  "language_info": {
   "codemirror_mode": {
    "name": "ipython",
    "version": 3
   },
   "file_extension": ".py",
   "mimetype": "text/x-python",
   "name": "python",
   "nbconvert_exporter": "python",
   "pygments_lexer": "ipython3",
   "version": "3.9.15"
  },
  "orig_nbformat": 4,
  "vscode": {
   "interpreter": {
    "hash": "3d597f4c481aa0f25dceb95d2a0067e73c0966dcbd003d741d821a7208527ecf"
   }
  }
 },
 "nbformat": 4,
 "nbformat_minor": 2
}
